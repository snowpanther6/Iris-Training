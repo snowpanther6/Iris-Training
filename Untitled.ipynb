{
 "cells": [
  {
   "cell_type": "code",
   "execution_count": 5,
   "metadata": {},
   "outputs": [
    {
     "name": "stdout",
     "output_type": "stream",
     "text": [
      "[148.    6.5   3.    5.2   2. ]\n",
      "Predicted value is['3']\n",
      "Real Value is['3']\n"
     ]
    },
    {
     "name": "stderr",
     "output_type": "stream",
     "text": [
      "C:\\Users\\HP\\Anaconda3\\lib\\site-packages\\sklearn\\linear_model\\logistic.py:433: FutureWarning: Default solver will be changed to 'lbfgs' in 0.22. Specify a solver to silence this warning.\n",
      "  FutureWarning)\n",
      "C:\\Users\\HP\\Anaconda3\\lib\\site-packages\\sklearn\\utils\\validation.py:761: DataConversionWarning: A column-vector y was passed when a 1d array was expected. Please change the shape of y to (n_samples, ), for example using ravel().\n",
      "  y = column_or_1d(y, warn=True)\n",
      "C:\\Users\\HP\\Anaconda3\\lib\\site-packages\\sklearn\\linear_model\\logistic.py:460: FutureWarning: Default multi_class will be changed to 'auto' in 0.22. Specify the multi_class option to silence this warning.\n",
      "  \"this warning.\", FutureWarning)\n"
     ]
    },
    {
     "data": {
      "text/plain": [
       "95.1219512195122"
      ]
     },
     "execution_count": 5,
     "metadata": {},
     "output_type": "execute_result"
    }
   ],
   "source": [
    "import numpy as np\n",
    "import matplotlib.pyplot as plt\n",
    "from numpy import genfromtxt\n",
    "from sklearn import linear_model\n",
    "file=genfromtxt(\"iris.csv\",delimiter=\",\",dtype=\"str\")\n",
    "dic={}\n",
    "count=0\n",
    "for val in file:\n",
    "    if val[5] not in dic:\n",
    "        dic[val[5]]=count\n",
    "        count+=1\n",
    "for val in file:\n",
    "    val[5]=dic[val[5]]\n",
    "    \n",
    "trainingSet=file[1:110]\n",
    "testingSet=file[110:]\n",
    "\n",
    "trainingX=trainingSet[:,[0,1,2,3,4]]\n",
    "trainingX=trainingX.astype(float)\n",
    "trainingY=trainingSet[:,[5]]\n",
    "\n",
    "testingX=testingSet[:,[0,1,2,3,4]]\n",
    "testingX=testingX.astype(float)\n",
    "testingY=testingSet[:,[5]]\n",
    "\n",
    "lr=linear_model.LogisticRegression()\n",
    "lr.fit(trainingX,trainingY)\n",
    "\n",
    "print(testingX[28])\n",
    "print(\"Predicted value is\"+str(lr.predict([testingX[28]])))\n",
    "print(\"Real Value is\"+ str(testingY[28]))\n",
    "\n",
    "\n",
    "lr.score(testingX,testingY)*100"
   ]
  },
  {
   "cell_type": "code",
   "execution_count": null,
   "metadata": {},
   "outputs": [],
   "source": []
  },
  {
   "cell_type": "code",
   "execution_count": null,
   "metadata": {},
   "outputs": [],
   "source": []
  },
  {
   "cell_type": "code",
   "execution_count": null,
   "metadata": {},
   "outputs": [],
   "source": []
  },
  {
   "cell_type": "code",
   "execution_count": null,
   "metadata": {},
   "outputs": [],
   "source": []
  }
 ],
 "metadata": {
  "kernelspec": {
   "display_name": "Python 3",
   "language": "python",
   "name": "python3"
  },
  "language_info": {
   "codemirror_mode": {
    "name": "ipython",
    "version": 3
   },
   "file_extension": ".py",
   "mimetype": "text/x-python",
   "name": "python",
   "nbconvert_exporter": "python",
   "pygments_lexer": "ipython3",
   "version": "3.7.1"
  }
 },
 "nbformat": 4,
 "nbformat_minor": 2
}
